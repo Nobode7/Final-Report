{
 "cells": [
  {
   "cell_type": "code",
   "execution_count": 1,
   "id": "c8a7d21e",
   "metadata": {},
   "outputs": [
    {
     "name": "stderr",
     "output_type": "stream",
     "text": [
      "D:\\Graduate School\\COMM\\5961\\Anaconda\\lib\\site-packages\\pandas\\core\\generic.py:2779: UserWarning: The spaces in these column names will not be changed. In pandas versions < 0.14, spaces were converted to underscores.\n",
      "  sql.to_sql(\n"
     ]
    }
   ],
   "source": [
    "import sqlite3\n",
    "import pandas as pd\n",
    "con = sqlite3.connect('database.db')\n",
    "df = pd.read_csv('Dramas.csv')\n",
    "df\n",
    "df.to_sql('Dramas', con, if_exists='replace', index = False)\n",
    "df\n",
    "con.close()\n"
   ]
  },
  {
   "cell_type": "code",
   "execution_count": 2,
   "id": "206d316e",
   "metadata": {},
   "outputs": [],
   "source": [
    "import sqlite3\n",
    "import pandas as pd\n",
    "con = sqlite3.connect('database.db')\n",
    "df = pd.read_csv('Drama_recent.csv')\n",
    "df\n",
    "df.to_sql('Drama2', con, if_exists='replace', index = False)\n",
    "df\n",
    "con.close()"
   ]
  },
  {
   "cell_type": "code",
   "execution_count": null,
   "id": "1c1bf9e8",
   "metadata": {},
   "outputs": [],
   "source": []
  }
 ],
 "metadata": {
  "kernelspec": {
   "display_name": "Python 3",
   "language": "python",
   "name": "python3"
  },
  "language_info": {
   "codemirror_mode": {
    "name": "ipython",
    "version": 3
   },
   "file_extension": ".py",
   "mimetype": "text/x-python",
   "name": "python",
   "nbconvert_exporter": "python",
   "pygments_lexer": "ipython3",
   "version": "3.8.8"
  }
 },
 "nbformat": 4,
 "nbformat_minor": 5
}
